{
  "nbformat": 4,
  "nbformat_minor": 0,
  "metadata": {
    "colab": {
      "name": "ComboFinder.ipynb",
      "provenance": [],
      "authorship_tag": "ABX9TyOb86npHWelJq3J8TbSAx2J"
    },
    "kernelspec": {
      "name": "python3",
      "display_name": "Python 3"
    },
    "language_info": {
      "name": "python"
    }
  },
  "cells": [
    {
      "cell_type": "markdown",
      "source": [
        "ComboFinder\n",
        "Problem Statement:\n",
        "Find all the list of products whose sum-of-price is between 190 and 220.\n",
        "\n",
        "ProductList = {p1:10, p2:15, p3:20, p4:25, p5:30, p6:35, p7:50,\n",
        "               'p8':40, 'p9':55, 'p10':60, 'p11':65, 'p12':75, 'p13':70,\n",
        "               'p14':45}"
      ],
      "metadata": {
        "id": "bZxmTI8rVwy8"
      }
    },
    {
      "cell_type": "code",
      "source": [
        "import random as r   #Importing Library"
      ],
      "metadata": {
        "id": "aKoWAeCcmbW7"
      },
      "execution_count": 1,
      "outputs": []
    },
    {
      "cell_type": "code",
      "source": [
        "ProductList = {'p1':10, 'p2':15, 'p3':20, 'p4':25, 'p5':30, 'p6':35, 'p7':50,\n",
        "               'p8':40, 'p9':55, 'p10':60, 'p11':65, 'p12':75, 'p13':70,\n",
        "               'p14':45}\n",
        "LB          = 190\n",
        "UB          = 220\n",
        "ResultList  = set()   # Store Result List i.e. list of sets whose sum is between 190 and 220.\n",
        "Iterations  = 1000    # Number of Inerations"
      ],
      "metadata": {
        "id": "Oaa2r7hTmgBh"
      },
      "execution_count": 2,
      "outputs": []
    },
    {
      "cell_type": "code",
      "source": [
        "# Select combo size (i.e. number of products in a combo)\n",
        "SetSize = r.randint(2, len(ProductList)-1)\n",
        "print(\"Number of Product: \", SetSize)\n",
        "\n",
        "\n",
        "# Select number of elements from Set\n",
        "ComboList = r.sample(list(ProductList.keys()),SetSize)\n",
        "print(\"Product List     : \", ComboList)\n",
        "\n",
        "\n",
        "# Sum the products in ColboList\n",
        "ComboSum = sum([ ProductList[i] for i in ComboList])\n",
        "print(\"Sum of Product   : \", ComboSum)\n"
      ],
      "metadata": {
        "colab": {
          "base_uri": "https://localhost:8080/"
        },
        "id": "OF80ygcImtUm",
        "outputId": "530fcaff-0d31-4656-b74f-3497a5eab10c"
      },
      "execution_count": 3,
      "outputs": [
        {
          "output_type": "stream",
          "name": "stdout",
          "text": [
            "Number of Product:  12\n",
            "Product List     :  ['p1', 'p12', 'p3', 'p4', 'p10', 'p8', 'p14', 'p2', 'p11', 'p7', 'p6', 'p5']\n",
            "Sum of Product   :  470\n"
          ]
        }
      ]
    },
    {
      "cell_type": "code",
      "source": [
        "# Loop till number of Iterations\n",
        "ResultList  = set()\n",
        "\n",
        "for i in range(Iterations):\n",
        "\n",
        "    # Select combo size (i.e. number of products in a combo)\n",
        "    SetSize = r.randint(2, len(ProductList)-1)\n",
        "\n",
        "    # Select number of elements from Set\n",
        "    ComboList = r.sample(list(ProductList.keys()),SetSize)\n",
        "\n",
        "    # Sum the products in ColboList\n",
        "    ComboSum = sum([ ProductList[i] for i in ComboList])\n",
        "    \n",
        "    # Check the Sum Between LB and UB\n",
        "    if ComboSum>= LB and ComboSum<= UB:\n",
        "      ResultList.add(tuple(ComboList))\n",
        "\n",
        "print(\"Done\")"
      ],
      "metadata": {
        "colab": {
          "base_uri": "https://localhost:8080/"
        },
        "id": "z7Spc19enBmg",
        "outputId": "665c6ec8-4721-4bef-846d-22cbe02f55b5"
      },
      "execution_count": 4,
      "outputs": [
        {
          "output_type": "stream",
          "name": "stdout",
          "text": [
            "Done\n"
          ]
        }
      ]
    },
    {
      "cell_type": "code",
      "source": [
        "# Print all the sets whose sum is between LB and UB\n",
        "for r in ResultList:\n",
        "\tprint (r)\n",
        "\n",
        "# Print total sets\n",
        "print (\"\\nTotal Sets: \", len(ResultList), \"\\n\")"
      ],
      "metadata": {
        "colab": {
          "base_uri": "https://localhost:8080/"
        },
        "id": "IRgF4HcinF5L",
        "outputId": "3af96fb0-0141-4ad2-c64a-7d05bf0add55"
      },
      "execution_count": 5,
      "outputs": [
        {
          "output_type": "stream",
          "name": "stdout",
          "text": [
            "('p6', 'p10', 'p11', 'p9')\n",
            "('p11', 'p7', 'p12')\n",
            "('p14', 'p6', 'p10', 'p7')\n",
            "('p14', 'p8', 'p13', 'p6')\n",
            "('p7', 'p6', 'p11', 'p8', 'p1')\n",
            "('p12', 'p9', 'p6', 'p14', 'p1')\n",
            "('p2', 'p6', 'p1', 'p10', 'p7', 'p3')\n",
            "('p12', 'p9', 'p8', 'p6')\n",
            "('p12', 'p9', 'p2', 'p13')\n",
            "('p10', 'p6', 'p4', 'p13', 'p1')\n",
            "('p12', 'p11', 'p5', 'p14')\n",
            "('p8', 'p12', 'p6', 'p1', 'p14')\n",
            "('p14', 'p3', 'p5', 'p12', 'p6', 'p2')\n",
            "('p5', 'p11', 'p12', 'p8')\n",
            "('p7', 'p8', 'p9', 'p11')\n",
            "('p13', 'p10', 'p5', 'p7', 'p1')\n",
            "('p7', 'p12', 'p5', 'p6', 'p1')\n",
            "('p7', 'p1', 'p9', 'p4', 'p14', 'p6')\n",
            "('p10', 'p14', 'p6', 'p12')\n",
            "('p6', 'p8', 'p10', 'p13')\n",
            "('p14', 'p13', 'p5', 'p4', 'p1', 'p3')\n",
            "('p8', 'p13', 'p6', 'p14')\n",
            "('p7', 'p2', 'p13', 'p4', 'p3', 'p8')\n",
            "('p13', 'p2', 'p6', 'p9', 'p3')\n",
            "('p7', 'p3', 'p1', 'p2', 'p11', 'p5')\n",
            "('p13', 'p12', 'p8', 'p2')\n",
            "('p5', 'p4', 'p7', 'p14', 'p8')\n",
            "('p10', 'p4', 'p1', 'p14', 'p7')\n",
            "('p4', 'p6', 'p1', 'p9', 'p7', 'p2')\n",
            "('p13', 'p10', 'p4', 'p8')\n",
            "('p7', 'p1', 'p8', 'p5', 'p10')\n",
            "('p13', 'p3', 'p6', 'p1', 'p9')\n",
            "('p11', 'p9', 'p12', 'p2')\n",
            "('p4', 'p13', 'p8', 'p1', 'p11')\n",
            "('p3', 'p10', 'p5', 'p2', 'p7', 'p4')\n",
            "('p10', 'p3', 'p5', 'p6', 'p13')\n",
            "('p13', 'p10', 'p11')\n",
            "('p4', 'p1', 'p11', 'p8', 'p13')\n",
            "('p10', 'p8', 'p3', 'p14', 'p5')\n",
            "('p11', 'p10', 'p14', 'p7')\n",
            "('p5', 'p8', 'p12', 'p14', 'p2')\n",
            "('p1', 'p14', 'p6', 'p7', 'p12')\n",
            "('p5', 'p6', 'p13', 'p1', 'p9')\n",
            "('p11', 'p5', 'p6', 'p7', 'p3')\n",
            "('p3', 'p5', 'p11', 'p2', 'p12', 'p1')\n",
            "('p8', 'p13', 'p12', 'p3')\n",
            "('p8', 'p7', 'p4', 'p3', 'p5', 'p14')\n",
            "('p10', 'p5', 'p1', 'p7', 'p8')\n",
            "('p9', 'p12', 'p6', 'p5')\n",
            "('p9', 'p4', 'p11', 'p13')\n",
            "('p6', 'p7', 'p3', 'p11', 'p5')\n",
            "('p13', 'p11', 'p8', 'p2')\n",
            "('p9', 'p13', 'p3', 'p4', 'p8')\n",
            "('p3', 'p5', 'p7', 'p1', 'p6', 'p11')\n",
            "('p4', 'p3', 'p11', 'p13', 'p1')\n",
            "('p11', 'p13', 'p9')\n",
            "('p8', 'p4', 'p9', 'p1', 'p12')\n",
            "('p8', 'p6', 'p12', 'p9')\n",
            "('p11', 'p12', 'p3', 'p8')\n",
            "('p3', 'p6', 'p4', 'p12', 'p2', 'p5')\n",
            "('p11', 'p5', 'p12', 'p1', 'p4')\n",
            "('p12', 'p3', 'p14', 'p9')\n",
            "('p5', 'p3', 'p4', 'p11', 'p2', 'p7')\n",
            "('p13', 'p4', 'p8', 'p14', 'p6')\n",
            "('p7', 'p12', 'p14', 'p6')\n",
            "\n",
            "Total Sets:  65 \n",
            "\n"
          ]
        }
      ]
    }
  ]
}