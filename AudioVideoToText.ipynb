{
  "nbformat": 4,
  "nbformat_minor": 0,
  "metadata": {
    "colab": {
      "name": "AudioVideoToText.ipynb",
      "provenance": [],
      "authorship_tag": "ABX9TyNvq9S9uvsbiW3EBppId5Um",
      "include_colab_link": true
    },
    "kernelspec": {
      "name": "python3",
      "display_name": "Python 3"
    },
    "language_info": {
      "name": "python"
    }
  },
  "cells": [
    {
      "cell_type": "markdown",
      "metadata": {
        "id": "view-in-github",
        "colab_type": "text"
      },
      "source": [
        "<a href=\"https://colab.research.google.com/github/SiyaSindhani/Mini-Projects/blob/main/AudioVideoToText.ipynb\" target=\"_parent\"><img src=\"https://colab.research.google.com/assets/colab-badge.svg\" alt=\"Open In Colab\"/></a>"
      ]
    },
    {
      "cell_type": "code",
      "execution_count": 1,
      "metadata": {
        "colab": {
          "base_uri": "https://localhost:8080/"
        },
        "id": "zWmaEhvZt6OU",
        "outputId": "2a694b8b-d2fe-4fa2-c75e-3d3e0a61cfbb"
      },
      "outputs": [
        {
          "output_type": "stream",
          "name": "stdout",
          "text": [
            "Looking in indexes: https://pypi.org/simple, https://us-python.pkg.dev/colab-wheels/public/simple/\n",
            "Collecting SpeechRecognition\n",
            "  Downloading SpeechRecognition-3.8.1-py2.py3-none-any.whl (32.8 MB)\n",
            "\u001b[K     |████████████████████████████████| 32.8 MB 50.3 MB/s \n",
            "\u001b[?25hInstalling collected packages: SpeechRecognition\n",
            "Successfully installed SpeechRecognition-3.8.1\n"
          ]
        }
      ],
      "source": [
        "#Audio Video to Text Conversion\n",
        "\n",
        "!pip install SpeechRecognition #Installing the package"
      ]
    },
    {
      "cell_type": "code",
      "source": [
        "import speech_recognition as sr #Initiаlize  reсоgnizer  сlаss  (fоr  reсоgnizing  the  sрeeсh)\n",
        "r = sr.Recognizer()             # Reading Audio file as source\n",
        "\n",
        "with sr.AudioFile('/content/Sample.wav') as source:\n",
        "    audio_text = r.listen(source,phrase_time_limit=30)\n",
        "                                #  listening  the  аudiо  file  аnd  stоre  in  аudiо_text  vаriаble\n",
        "                                # recoginize_() method will throw a request error if the API is unreachable, hence using exception handling\n",
        "    try:\n",
        "                                # using google speech recognition\n",
        "        text = r.recognize_google(audio_text)\n",
        "        print('Please wait while your audio transcripts are converted to text')\n",
        "        print(text)\n",
        "    except:\n",
        "         print('Sorry! Run again.')"
      ],
      "metadata": {
        "colab": {
          "base_uri": "https://localhost:8080/"
        },
        "id": "pkZSsaPeuPD4",
        "outputId": "6fa82371-eae1-4658-abec-d77192f2db02"
      },
      "execution_count": 2,
      "outputs": [
        {
          "output_type": "stream",
          "name": "stdout",
          "text": [
            "Please wait while your audio transcripts are converted to text\n",
            "welcome to education today and tonight's question is should schools give tablets to students where do you stand on that Mrs Fagan they must and what's your opinion\n"
          ]
        }
      ]
    }
  ]
}