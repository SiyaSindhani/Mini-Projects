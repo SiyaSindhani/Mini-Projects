{
  "nbformat": 4,
  "nbformat_minor": 0,
  "metadata": {
    "colab": {
      "name": "SpellCorrectorUsingTextblob.ipynb",
      "provenance": [],
      "authorship_tag": "ABX9TyOvonp/b3NfEx2T8pY/19nh",
      "include_colab_link": true
    },
    "kernelspec": {
      "name": "python3",
      "display_name": "Python 3"
    },
    "language_info": {
      "name": "python"
    }
  },
  "cells": [
    {
      "cell_type": "markdown",
      "metadata": {
        "id": "view-in-github",
        "colab_type": "text"
      },
      "source": [
        "<a href=\"https://colab.research.google.com/github/SiyaSindhani/Mini-Projects/blob/main/SpellCorrectorUsingTextblob.ipynb\" target=\"_parent\"><img src=\"https://colab.research.google.com/assets/colab-badge.svg\" alt=\"Open In Colab\"/></a>"
      ]
    },
    {
      "cell_type": "code",
      "execution_count": 2,
      "metadata": {
        "colab": {
          "base_uri": "https://localhost:8080/"
        },
        "id": "R-qaxotwrBRF",
        "outputId": "58bfe4eb-4781-4580-8095-744e5225737b"
      },
      "outputs": [
        {
          "output_type": "stream",
          "name": "stdout",
          "text": [
            "Wrong words : ['Mahine', 'Learnin']\n",
            "Corrected Words are :\n",
            "Machine Learning "
          ]
        }
      ],
      "source": [
        "#Correct Spellings in Python\n",
        "\n",
        "#using Textblob (pip install textbolob)\n",
        "\n",
        "#TextBlob is a Python library for processing text data. It provides a simple API for delving into common natural language processing tasks such as tagging part of speech, extracting nominal sentences, analyzing feelings, classifying, translating, and more.\n",
        "\n",
        "#Correcting pre-defined words\n",
        "from textblob import TextBlob\n",
        "words = [\"Mahine\", \"Learnin\"]\n",
        "corrected_words = []\n",
        "for i in words:\n",
        "    corrected_words.append(TextBlob(i))\n",
        "print(\"Wrong words :\", words)\n",
        "print(\"Corrected Words are :\")\n",
        "for i in corrected_words:\n",
        "    print(i.correct(), end=\" \")"
      ]
    },
    {
      "cell_type": "code",
      "source": [
        "#spell-checking a file\n",
        "with open(\"text.txt\", \"r\") as f:        # Opening the test file with the intention to read\n",
        "    text = f.read()                     # Reading the file\n",
        "    textBlb = TextBlob(text)            \n",
        "    textCorrected = textBlb.correct()   # Correcting the text\n",
        "    print(textCorrected)"
      ],
      "metadata": {
        "colab": {
          "base_uri": "https://localhost:8080/"
        },
        "id": "6dpRObBfryAs",
        "outputId": "1828b83e-9ec7-41d6-c7d5-30cf3b73f9bb"
      },
      "execution_count": 6,
      "outputs": [
        {
          "output_type": "stream",
          "name": "stdout",
          "text": [
            "I love Machine Learning\n"
          ]
        }
      ]
    }
  ]
}